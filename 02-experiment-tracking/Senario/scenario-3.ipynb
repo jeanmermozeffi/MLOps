{
 "cells": [
  {
   "metadata": {
    "ExecuteTime": {
     "end_time": "2024-07-09T10:07:29.151648Z",
     "start_time": "2024-07-09T10:07:29.104775Z"
    }
   },
   "cell_type": "code",
   "source": [
    "# Installer les packages nécessaires\n",
    "# !pip install mlflow boto3 psycopg2-binary"
   ],
   "id": "487e862c4eef2a8b",
   "outputs": [],
   "execution_count": 18
  },
  {
   "metadata": {},
   "cell_type": "code",
   "outputs": [],
   "execution_count": null,
   "source": "",
   "id": "3ab6245727dcbaec"
  },
  {
   "metadata": {
    "ExecuteTime": {
     "end_time": "2024-07-09T09:07:17.848155Z",
     "start_time": "2024-07-09T09:07:15.859579Z"
    }
   },
   "cell_type": "code",
   "source": [
    "import mlflow\n",
    "import os\n",
    "import boto3\n",
    "\n",
    "from sklearn.linear_model import LogisticRegression\n",
    "from sklearn.datasets import load_iris\n",
    "from sklearn.metrics import accuracy_score"
   ],
   "id": "92e8177ac48a208c",
   "outputs": [],
   "execution_count": 2
  },
  {
   "metadata": {
    "ExecuteTime": {
     "end_time": "2024-07-09T09:19:19.704465Z",
     "start_time": "2024-07-09T09:19:19.681559Z"
    }
   },
   "cell_type": "code",
   "source": [
    "os.environ[\"AWS_PROFILE\"] = \"mlflow-user\" # fill in with your AWS profile. More info: https://docs.aws.amazon.com/sdk-for-java/latest/developer-guide/setup.html#setup-credentials\n",
    "\n",
    "TRACKING_SERVER_HOST = \"ec2-51-20-3-129.eu-north-1.compute.amazonaws.com\" # fill in with the public DNS of the EC2 instance\n",
    "mlflow.set_tracking_uri(f\"http://{TRACKING_SERVER_HOST}:5000\")"
   ],
   "id": "e759d54d10d4e79a",
   "outputs": [],
   "execution_count": 6
  },
  {
   "metadata": {
    "ExecuteTime": {
     "end_time": "2024-07-09T09:19:22.430333Z",
     "start_time": "2024-07-09T09:19:22.424591Z"
    }
   },
   "cell_type": "code",
   "source": "print(f\"Tracking URI: '{mlflow.get_tracking_uri()}'\")",
   "id": "10e516b89fa15c60",
   "outputs": [
    {
     "name": "stdout",
     "output_type": "stream",
     "text": [
      "Tracking URI: 'http://ec2-51-20-3-129.eu-north-1.compute.amazonaws.com:5000'\n"
     ]
    }
   ],
   "execution_count": 7
  },
  {
   "metadata": {
    "ExecuteTime": {
     "end_time": "2024-07-09T09:19:27.197185Z",
     "start_time": "2024-07-09T09:19:26.545322Z"
    }
   },
   "cell_type": "code",
   "source": "mlflow.search_experiments()",
   "id": "2580a0caafd405e2",
   "outputs": [
    {
     "data": {
      "text/plain": [
       "[<Experiment: artifact_location='s3://mlflow-artifact-remote-eff/1', creation_time=1720452889580, experiment_id='1', last_update_time=1720452889580, lifecycle_stage='active', name='my-experiment-1', tags={}>,\n",
       " <Experiment: artifact_location='s3://mlflow-artifact-remote-eff/0', creation_time=1720452252445, experiment_id='0', last_update_time=1720452252445, lifecycle_stage='active', name='Default', tags={}>]"
      ]
     },
     "execution_count": 8,
     "metadata": {},
     "output_type": "execute_result"
    }
   ],
   "execution_count": 8
  },
  {
   "metadata": {
    "ExecuteTime": {
     "end_time": "2024-07-09T09:19:32.259510Z",
     "start_time": "2024-07-09T09:19:31.851635Z"
    }
   },
   "cell_type": "code",
   "source": [
    "# Initialiser une session boto3 avec le profil spécifié\n",
    "session = boto3.Session()\n",
    "\n",
    "# Exemple d'utilisation avec le client S3\n",
    "s3 = session.client('s3')"
   ],
   "id": "a8c7b3cb52643368",
   "outputs": [],
   "execution_count": 9
  },
  {
   "metadata": {
    "ExecuteTime": {
     "end_time": "2024-07-09T09:20:30.295943Z",
     "start_time": "2024-07-09T09:20:29.566289Z"
    }
   },
   "cell_type": "code",
   "source": [
    "# Liste des buckets pour vérifier la configuration\n",
    "response = s3.list_buckets()\n",
    "print(\"Buckets:\", [bucket['Name'] for bucket in response['Buckets']])"
   ],
   "id": "abd34a3d4481b3f6",
   "outputs": [
    {
     "name": "stdout",
     "output_type": "stream",
     "text": [
      "Buckets: ['mlflow-artifact-remote-eff']\n"
     ]
    }
   ],
   "execution_count": 11
  },
  {
   "metadata": {
    "ExecuteTime": {
     "end_time": "2024-07-09T09:19:57.068480Z",
     "start_time": "2024-07-09T09:19:43.711778Z"
    }
   },
   "cell_type": "code",
   "source": [
    "mlflow.set_experiment(\"my-experiment-1\")\n",
    "\n",
    "with mlflow.start_run():\n",
    "\n",
    "    X, y = load_iris(return_X_y=True)\n",
    "\n",
    "    params = {\"C\": 0.1, \"random_state\": 42}\n",
    "    mlflow.log_params(params)\n",
    "\n",
    "    lr = LogisticRegression(**params).fit(X, y)\n",
    "    y_pred = lr.predict(X)\n",
    "    mlflow.log_metric(\"accuracy\", accuracy_score(y, y_pred))\n",
    "\n",
    "    mlflow.sklearn.log_model(lr, artifact_path=\"models\")\n",
    "    print(f\"default artifacts URI: '{mlflow.get_artifact_uri()}'\")"
   ],
   "id": "28b42b6ae41dfe",
   "outputs": [
    {
     "name": "stdout",
     "output_type": "stream",
     "text": [
      "default artifacts URI: 's3://mlflow-artifact-remote-eff/1/20839fadd1204d97af31541f948605f0/artifacts'\n"
     ]
    }
   ],
   "execution_count": 10
  },
  {
   "metadata": {
    "ExecuteTime": {
     "end_time": "2024-07-09T09:22:30.971778Z",
     "start_time": "2024-07-09T09:22:30.667689Z"
    }
   },
   "cell_type": "code",
   "source": "mlflow.search_experiments()",
   "id": "a08693faa10a34c7",
   "outputs": [
    {
     "data": {
      "text/plain": [
       "[<Experiment: artifact_location='s3://mlflow-artifact-remote-eff/1', creation_time=1720452889580, experiment_id='1', last_update_time=1720452889580, lifecycle_stage='active', name='my-experiment-1', tags={}>,\n",
       " <Experiment: artifact_location='s3://mlflow-artifact-remote-eff/0', creation_time=1720452252445, experiment_id='0', last_update_time=1720452252445, lifecycle_stage='active', name='Default', tags={}>]"
      ]
     },
     "execution_count": 12,
     "metadata": {},
     "output_type": "execute_result"
    }
   ],
   "execution_count": 12
  },
  {
   "metadata": {},
   "cell_type": "markdown",
   "source": "## Interagir avec le registre de modèles",
   "id": "d040c5e0b166ffdd"
  },
  {
   "metadata": {
    "ExecuteTime": {
     "end_time": "2024-07-09T09:29:53.786793Z",
     "start_time": "2024-07-09T09:29:53.753659Z"
    }
   },
   "cell_type": "code",
   "source": "from mlflow.tracking import MlflowClient",
   "id": "682e55fbdcb91df2",
   "outputs": [],
   "execution_count": 13
  },
  {
   "metadata": {
    "ExecuteTime": {
     "end_time": "2024-07-09T09:30:00.994158Z",
     "start_time": "2024-07-09T09:30:00.977881Z"
    }
   },
   "cell_type": "code",
   "source": "client = MlflowClient(f\"http://{TRACKING_SERVER_HOST}:5000\")",
   "id": "4cf45230edc96e1a",
   "outputs": [],
   "execution_count": 14
  },
  {
   "metadata": {
    "ExecuteTime": {
     "end_time": "2024-07-09T09:30:20.126644Z",
     "start_time": "2024-07-09T09:30:19.478867Z"
    }
   },
   "cell_type": "code",
   "source": "client.search_registered_models()",
   "id": "5fabee91e9f3b6e0",
   "outputs": [
    {
     "data": {
      "text/plain": [
       "[]"
      ]
     },
     "execution_count": 15,
     "metadata": {},
     "output_type": "execute_result"
    }
   ],
   "execution_count": 15
  },
  {
   "metadata": {
    "ExecuteTime": {
     "end_time": "2024-07-09T09:34:20.843317Z",
     "start_time": "2024-07-09T09:34:19.505822Z"
    }
   },
   "cell_type": "code",
   "source": [
    "# Spécifiez l'ID de l'expérience\n",
    "experiment_id = '1'\n",
    "\n",
    "# Rechercher les runs de l'expérience spécifiée\n",
    "runs = client.search_runs(\n",
    "    experiment_ids=[experiment_id],\n",
    "    order_by=[\"attribute.start_time desc\"],\n",
    "    max_results=1\n",
    ")\n",
    "\n",
    "# Obtenir le run_id du run le plus récent\n",
    "if runs:\n",
    "    run_id = runs[0].info.run_id\n",
    "\n",
    "    # Enregistrer le modèle en utilisant le run_id\n",
    "    mlflow.register_model(\n",
    "        model_uri=f\"runs:/{run_id}/models\",\n",
    "        name='iris-classifier'\n",
    "    )\n",
    "else:\n",
    "    print(\"No runs found for the specified experiment_id\")"
   ],
   "id": "a21b68c4c2225613",
   "outputs": [
    {
     "name": "stderr",
     "output_type": "stream",
     "text": [
      "Successfully registered model 'iris-classifier'.\n",
      "2024/07/09 09:34:20 INFO mlflow.store.model_registry.abstract_store: Waiting up to 300 seconds for model version to finish creation. Model name: iris-classifier, version 1\n",
      "Created version '1' of model 'iris-classifier'.\n"
     ]
    }
   ],
   "execution_count": 17
  },
  {
   "metadata": {},
   "cell_type": "code",
   "outputs": [],
   "execution_count": null,
   "source": "",
   "id": "f590e47ef243bf22"
  }
 ],
 "metadata": {
  "kernelspec": {
   "display_name": "Python 3",
   "language": "python",
   "name": "python3"
  },
  "language_info": {
   "codemirror_mode": {
    "name": "ipython",
    "version": 2
   },
   "file_extension": ".py",
   "mimetype": "text/x-python",
   "name": "python",
   "nbconvert_exporter": "python",
   "pygments_lexer": "ipython2",
   "version": "2.7.6"
  }
 },
 "nbformat": 4,
 "nbformat_minor": 5
}
