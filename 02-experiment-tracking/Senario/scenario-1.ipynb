{
 "cells": [
  {
   "metadata": {},
   "cell_type": "markdown",
   "source": [
    "## Scénario 1 : un seul data scientist participant à un concours de ML\n",
    "### Configuration de MLflow :\n",
    "\n",
    "- Serveur de suivi : non\n",
    "- Magasin backend : système de fichiers local\n",
    "- Magasin d'artefacts : système de fichiers local\n",
    "- Les expériences peuvent être explorées localement en lançant l'interface utilisateur MLflow."
   ],
   "id": "7666e8dd3d6918c3"
  },
  {
   "metadata": {},
   "cell_type": "markdown",
   "source": "## Importation de bibliothèques",
   "id": "f061b336aa1dd9c"
  },
  {
   "metadata": {
    "ExecuteTime": {
     "end_time": "2024-07-04T10:49:08.265718Z",
     "start_time": "2024-07-04T10:49:07.509142Z"
    }
   },
   "cell_type": "code",
   "source": "import mlflow",
   "id": "dd29b4ad88182f3a",
   "outputs": [],
   "execution_count": 1
  },
  {
   "metadata": {
    "ExecuteTime": {
     "end_time": "2024-07-04T11:00:54.914559Z",
     "start_time": "2024-07-04T11:00:54.859407Z"
    }
   },
   "cell_type": "code",
   "source": [
    "# Définir explicitement le répertoire de suivi des expériences\n",
    "mlflow.set_tracking_uri(\"file:///Users/jeanmermozeffi/DataspellProjects/MLOps/02-experiment-tracking/mlruns\")"
   ],
   "id": "9a1e26bd8be19b90",
   "outputs": [],
   "execution_count": 7
  },
  {
   "metadata": {
    "ExecuteTime": {
     "end_time": "2024-07-04T11:01:00.969666Z",
     "start_time": "2024-07-04T11:01:00.964543Z"
    }
   },
   "cell_type": "code",
   "source": "print(f\"tracking URI: '{mlflow.get_tracking_uri()}'\")",
   "id": "43693f75e3f50349",
   "outputs": [
    {
     "name": "stdout",
     "output_type": "stream",
     "text": [
      "tracking URI: 'file:///Users/jeanmermozeffi/DataspellProjects/MLOps/02-experiment-tracking/mlruns'\n"
     ]
    }
   ],
   "execution_count": 8
  },
  {
   "metadata": {
    "ExecuteTime": {
     "end_time": "2024-07-04T11:01:10.084755Z",
     "start_time": "2024-07-04T11:01:10.059226Z"
    }
   },
   "cell_type": "code",
   "source": [
    "## Lister les experiencess\n",
    "experiments = mlflow.search_experiments()"
   ],
   "id": "9c1e94703db049c0",
   "outputs": [],
   "execution_count": 9
  },
  {
   "metadata": {
    "ExecuteTime": {
     "end_time": "2024-07-04T11:01:12.786296Z",
     "start_time": "2024-07-04T11:01:12.779087Z"
    }
   },
   "cell_type": "code",
   "source": "experiments",
   "id": "dacff49d3db463ec",
   "outputs": [
    {
     "data": {
      "text/plain": [
       "[<Experiment: artifact_location='mlflow-artifacts:/0', creation_time=1720088695057, experiment_id='0', last_update_time=1720088695057, lifecycle_stage='active', name='Default', tags={}>]"
      ]
     },
     "execution_count": 10,
     "metadata": {},
     "output_type": "execute_result"
    }
   ],
   "execution_count": 10
  },
  {
   "metadata": {},
   "cell_type": "markdown",
   "source": "## Créer une expérience et enregistrer une nouvelle exécution",
   "id": "ff4314832e1c8185"
  },
  {
   "metadata": {
    "ExecuteTime": {
     "end_time": "2024-07-04T11:03:35.206118Z",
     "start_time": "2024-07-04T11:03:31.787931Z"
    }
   },
   "cell_type": "code",
   "source": [
    "from sklearn.linear_model import LogisticRegression\n",
    "from sklearn.datasets import load_iris\n",
    "from sklearn.metrics import accuracy_score\n",
    "\n",
    "mlflow.set_experiment(\"my-experiment-1\")\n",
    "\n",
    "with mlflow.start_run():\n",
    "\n",
    "    X, y = load_iris(return_X_y=True)\n",
    "\n",
    "    params = {\"C\": 0.1, \"random_state\": 42}\n",
    "    mlflow.log_params(params)\n",
    "\n",
    "    lr = LogisticRegression(**params).fit(X, y)\n",
    "    y_pred = lr.predict(X)\n",
    "    mlflow.log_metric(\"accuracy\", accuracy_score(y, y_pred))\n",
    "\n",
    "    mlflow.sklearn.log_model(lr, artifact_path=\"models\")\n",
    "    print(f\"Default artifacts URI: '{mlflow.get_artifact_uri()}'\")"
   ],
   "id": "4bf7dec13fc9c513",
   "outputs": [
    {
     "name": "stderr",
     "output_type": "stream",
     "text": [
      "2024/07/04 11:03:31 INFO mlflow.tracking.fluent: Experiment with name 'my-experiment-1' does not exist. Creating a new experiment.\n"
     ]
    },
    {
     "name": "stdout",
     "output_type": "stream",
     "text": [
      "Default artifacts URI: 'file:///Users/jeanmermozeffi/DataspellProjects/MLOps/02-experiment-tracking/mlruns/245700110544262184/e1dfe02be74c4c2cac67c42dd9b4dce6/artifacts'\n"
     ]
    }
   ],
   "execution_count": 11
  },
  {
   "metadata": {
    "ExecuteTime": {
     "end_time": "2024-07-04T11:04:41.835149Z",
     "start_time": "2024-07-04T11:04:41.824177Z"
    }
   },
   "cell_type": "code",
   "source": "mlflow.search_experiments()",
   "id": "50cd450d4441168a",
   "outputs": [
    {
     "data": {
      "text/plain": [
       "[<Experiment: artifact_location='file:///Users/jeanmermozeffi/DataspellProjects/MLOps/02-experiment-tracking/mlruns/245700110544262184', creation_time=1720091011842, experiment_id='245700110544262184', last_update_time=1720091011842, lifecycle_stage='active', name='my-experiment-1', tags={}>,\n",
       " <Experiment: artifact_location='mlflow-artifacts:/0', creation_time=1720088695057, experiment_id='0', last_update_time=1720088695057, lifecycle_stage='active', name='Default', tags={}>]"
      ]
     },
     "execution_count": 12,
     "metadata": {},
     "output_type": "execute_result"
    }
   ],
   "execution_count": 12
  },
  {
   "metadata": {},
   "cell_type": "markdown",
   "source": "## Interagir avec le registre de modèles",
   "id": "f4e3f43b93c6f917"
  },
  {
   "metadata": {
    "ExecuteTime": {
     "end_time": "2024-07-04T11:06:57.272548Z",
     "start_time": "2024-07-04T11:06:57.256351Z"
    }
   },
   "cell_type": "code",
   "source": [
    "from mlflow.tracking import MlflowClient\n",
    "from mlflow.exceptions import MlflowException"
   ],
   "id": "331808a351469e94",
   "outputs": [],
   "execution_count": 14
  },
  {
   "metadata": {},
   "cell_type": "code",
   "outputs": [],
   "execution_count": null,
   "source": [
    "client = MlflowClient()\n",
    "\n",
    "try:\n",
    "    client.list_registered_models()\n",
    "except MlflowException:\n",
    "    print(\"It's not possible to access the model registry :(\")"
   ],
   "id": "cf00114b2652f2ac"
  }
 ],
 "metadata": {
  "kernelspec": {
   "display_name": "Python 3",
   "language": "python",
   "name": "python3"
  },
  "language_info": {
   "codemirror_mode": {
    "name": "ipython",
    "version": 2
   },
   "file_extension": ".py",
   "mimetype": "text/x-python",
   "name": "python",
   "nbconvert_exporter": "python",
   "pygments_lexer": "ipython2",
   "version": "2.7.6"
  }
 },
 "nbformat": 4,
 "nbformat_minor": 5
}
