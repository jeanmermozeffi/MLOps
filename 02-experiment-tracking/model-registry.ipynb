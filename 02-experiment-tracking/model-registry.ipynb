{
 "cells": [
  {
   "metadata": {},
   "cell_type": "markdown",
   "source": "## MLflow's Model Registry",
   "id": "2440c0390b02182d"
  },
  {
   "cell_type": "code",
   "id": "initial_id",
   "metadata": {
    "collapsed": true,
    "ExecuteTime": {
     "end_time": "2024-07-03T14:54:55.221612Z",
     "start_time": "2024-07-03T14:54:54.378996Z"
    }
   },
   "source": [
    "from sklearn.metrics import mean_squared_error, root_mean_squared_error\n",
    "import pandas as pd\n",
    "\n",
    "import mlflow\n",
    "from mlflow.tracking import MlflowClient\n",
    "from mlflow.entities import ViewType"
   ],
   "outputs": [],
   "execution_count": 43
  },
  {
   "metadata": {
    "ExecuteTime": {
     "end_time": "2024-07-03T13:27:54.321146Z",
     "start_time": "2024-07-03T13:27:54.316619Z"
    }
   },
   "cell_type": "code",
   "source": "MLFLOW_TRACKING_URI = \"sqlite:///mlflow.db\"",
   "id": "87b9dc1c62a2c502",
   "outputs": [],
   "execution_count": 4
  },
  {
   "metadata": {
    "ExecuteTime": {
     "end_time": "2024-07-03T13:27:57.535372Z",
     "start_time": "2024-07-03T13:27:56.403169Z"
    }
   },
   "cell_type": "code",
   "source": "client = MlflowClient(tracking_uri=MLFLOW_TRACKING_URI)",
   "id": "7aa99d87fd83324d",
   "outputs": [],
   "execution_count": 5
  },
  {
   "metadata": {
    "ExecuteTime": {
     "end_time": "2024-07-03T13:37:54.983806Z",
     "start_time": "2024-07-03T13:37:54.970540Z"
    }
   },
   "cell_type": "code",
   "source": [
    "# Rechercher toutes les expériences\n",
    "experiments = client.search_experiments()"
   ],
   "id": "a7930d35a0249ab6",
   "outputs": [],
   "execution_count": 11
  },
  {
   "metadata": {
    "ExecuteTime": {
     "end_time": "2024-07-03T15:42:57.574757Z",
     "start_time": "2024-07-03T15:42:57.526666Z"
    }
   },
   "cell_type": "code",
   "source": [
    "# Afficher les détails de chaque expérience\n",
    "for experiment in experiments:\n",
    "    print(f\"Experiment ID: {experiment.experiment_id}, Name: {experiment.name}\")"
   ],
   "id": "44082beff318cf78",
   "outputs": [
    {
     "name": "stdout",
     "output_type": "stream",
     "text": [
      "Experiment ID: 2, Name: nouvelle-experiment-api\n",
      "Experiment ID: 1, Name: nyc-taxi-experiment-tracking\n",
      "Experiment ID: 0, Name: Default\n"
     ]
    }
   ],
   "execution_count": 55
  },
  {
   "metadata": {
    "ExecuteTime": {
     "end_time": "2024-07-03T13:35:00.763365Z",
     "start_time": "2024-07-03T13:35:00.739175Z"
    }
   },
   "cell_type": "code",
   "source": [
    "# Définir le nom de la nouvelle expérience\n",
    "experiment_name = \"nouvelle-experiment-api\"\n",
    "# Créer la nouvelle expérience\n",
    "experiment_id = client.create_experiment(experiment_name)\n",
    "print(f\"Experiment ID: {experiment_id}\")"
   ],
   "id": "cb635b00574b26b6",
   "outputs": [
    {
     "name": "stdout",
     "output_type": "stream",
     "text": [
      "Experiment ID: 2\n"
     ]
    }
   ],
   "execution_count": 10
  },
  {
   "metadata": {
    "ExecuteTime": {
     "end_time": "2024-07-03T15:43:14.054171Z",
     "start_time": "2024-07-03T15:43:13.933747Z"
    }
   },
   "cell_type": "code",
   "source": [
    "experiment_name = 'nyc-taxi-experiment-tracking'\n",
    "# Récupérer l'ID de l'expérience\n",
    "experiment = client.get_experiment_by_name(experiment_name)\n",
    "experiment_id = experiment.experiment_id\n",
    "print(f\"Experiment ID: {experiment_id}\")"
   ],
   "id": "d70b9d7c6fafd45b",
   "outputs": [
    {
     "name": "stdout",
     "output_type": "stream",
     "text": [
      "Experiment ID: 1\n"
     ]
    }
   ],
   "execution_count": 56
  },
  {
   "metadata": {
    "ExecuteTime": {
     "end_time": "2024-07-03T13:52:20.901676Z",
     "start_time": "2024-07-03T13:52:20.876425Z"
    }
   },
   "cell_type": "code",
   "source": [
    "# Rechercher les runs associés à l'expérience avec les conditions spécifiées\n",
    "runs = client.search_runs(\n",
    "    experiment_ids=[experiment_id],  # Liste des IDs des expériences à rechercher\n",
    "    filter_string=\"metrics.rmse < 6.5\",  # Filtre pour sélectionner les runs avec une métrique rmse inférieure à 7\n",
    "    run_view_type=ViewType.ACTIVE_ONLY,  # Type de vue pour les runs (ACTIVE_ONLY, DELETED_ONLY, ou ALL)\n",
    "    max_results=5,  # Limite le nombre maximum de résultats retournés\n",
    "    order_by=[\"metrics.rmse ASC\"]  # Trie les résultats par la métrique rmse en ordre croissant\n",
    ")"
   ],
   "id": "dda6ca903b2fef03",
   "outputs": [],
   "execution_count": 23
  },
  {
   "metadata": {
    "ExecuteTime": {
     "end_time": "2024-07-03T13:52:22.231769Z",
     "start_time": "2024-07-03T13:52:22.225113Z"
    }
   },
   "cell_type": "code",
   "source": [
    "# Afficher les détails de chaque run\n",
    "for run in runs:\n",
    "    print(f\"Run ID: {run.info.run_id}\")\n",
    "    print(f\"Start Time: {run.info.start_time}\")\n",
    "    print(f\"Metrics: {run.data.metrics}\")\n",
    "    # print(f\"Params: {run.data.params}\")\n",
    "    # print(f\"Tags: {run.data.tags}\")\n",
    "    print(\"-\" * 40)"
   ],
   "id": "3ae2145fb63e3b07",
   "outputs": [
    {
     "name": "stdout",
     "output_type": "stream",
     "text": [
      "Run ID: f47df67f15a743b29caf3e36284d76f2\n",
      "Start Time: 1720007345591\n",
      "Metrics: {'rmse': 6.312369926567225}\n",
      "----------------------------------------\n",
      "Run ID: 7d5852625ea245948607eef735da896c\n",
      "Start Time: 1720007085478\n",
      "Metrics: {'rmse': 6.312369926567225}\n",
      "----------------------------------------\n",
      "Run ID: 21dc170202d64b0393a4582b54381d2f\n",
      "Start Time: 1720003377217\n",
      "Metrics: {'rmse': 6.312369926567225}\n",
      "----------------------------------------\n",
      "Run ID: 6ade143924e941628a9092a869e00b2f\n",
      "Start Time: 1720001814353\n",
      "Metrics: {'validation-rmse': 6.3118810366834115, 'stopped_iteration': 940.0, 'best_iteration': 890.0, 'rmse': 6.312369926567225}\n",
      "----------------------------------------\n",
      "Run ID: 81140a48618b442fb950bae2302effaf\n",
      "Start Time: 1719961694746\n",
      "Metrics: {'rmse': 6.312369926567225}\n",
      "----------------------------------------\n"
     ]
    }
   ],
   "execution_count": 24
  },
  {
   "metadata": {
    "ExecuteTime": {
     "end_time": "2024-07-03T14:09:58.972110Z",
     "start_time": "2024-07-03T14:09:58.966688Z"
    }
   },
   "cell_type": "code",
   "source": "mlflow.set_tracking_uri(MLFLOW_TRACKING_URI)",
   "id": "84c94bfac74acf3a",
   "outputs": [],
   "execution_count": 26
  },
  {
   "metadata": {
    "ExecuteTime": {
     "end_time": "2024-07-03T14:15:37.283954Z",
     "start_time": "2024-07-03T14:15:37.261586Z"
    }
   },
   "cell_type": "code",
   "source": [
    "run_id = \"f47df67f15a743b29caf3e36284d76f2\"\n",
    "model_uri = f\"runs:/{run_id}/model_mlflow\"\n",
    "registered_model = mlflow.register_model(model_uri=model_uri, name=\"nyc-taxi-regressor\")"
   ],
   "id": "664c7c03c59f2afa",
   "outputs": [
    {
     "name": "stderr",
     "output_type": "stream",
     "text": [
      "Registered model 'nyc-taxi-regressor' already exists. Creating a new version of this model...\n",
      "Created version '3' of model 'nyc-taxi-regressor'.\n"
     ]
    }
   ],
   "execution_count": 30
  },
  {
   "metadata": {
    "ExecuteTime": {
     "end_time": "2024-07-03T14:13:56.294745Z",
     "start_time": "2024-07-03T14:13:56.267240Z"
    }
   },
   "cell_type": "code",
   "source": [
    "# Ajouter une description au modèle\n",
    "client.update_registered_model(\n",
    "    name=\"nyc-taxi-regressor\",\n",
    "    description=\"Modèle de régression pour prédire les tarifs des taxis à New York\"\n",
    ")"
   ],
   "id": "db5ef1931087e811",
   "outputs": [
    {
     "data": {
      "text/plain": [
       "<RegisteredModel: aliases={}, creation_timestamp=1720008192900, description='Modèle de régression pour prédire les tarifs des taxis à New York', last_updated_timestamp=1720016036273, latest_versions=[<ModelVersion: aliases=[], creation_timestamp=1720015804668, current_stage='None', description=None, last_updated_timestamp=1720015804668, name='nyc-taxi-regressor', run_id='f47df67f15a743b29caf3e36284d76f2', run_link=None, source='/Users/jeanmermozeffi/DataspellProjects/MLOps/02-experiment-tracking/mlruns/1/f47df67f15a743b29caf3e36284d76f2/artifacts/model_mlflow', status='READY', status_message=None, tags={}, user_id=None, version=2>], name='nyc-taxi-regressor', tags={}>"
      ]
     },
     "execution_count": 28,
     "metadata": {},
     "output_type": "execute_result"
    }
   ],
   "execution_count": 28
  },
  {
   "metadata": {
    "ExecuteTime": {
     "end_time": "2024-07-03T14:15:43.590761Z",
     "start_time": "2024-07-03T14:15:43.565983Z"
    }
   },
   "cell_type": "code",
   "source": [
    "# Ajouter des tags à une version spécifique du modèle\n",
    "client.set_model_version_tag(\n",
    "    name=\"nyc-taxi-regressor\",\n",
    "    version=registered_model.version,\n",
    "    key=\"algorithm\",\n",
    "    value=\"xgboost\"\n",
    ")\n",
    "\n",
    "client.set_model_version_tag(\n",
    "    name=\"nyc-taxi-regressor\",\n",
    "    version=registered_model.version,\n",
    "    key=\"dataset\",\n",
    "    value=\"NYC Taxi Data\"\n",
    ")"
   ],
   "id": "c2322c9c54e14a0f",
   "outputs": [],
   "execution_count": 31
  },
  {
   "metadata": {
    "ExecuteTime": {
     "end_time": "2024-07-03T14:26:32.920787Z",
     "start_time": "2024-07-03T14:26:32.833828Z"
    }
   },
   "cell_type": "code",
   "source": [
    "# Lister tous les modèles enregistrés\n",
    "registered_models = client.search_registered_models()\n",
    "# pprint(dict(rm), indent=4)"
   ],
   "id": "abaf396814cc4d63",
   "outputs": [],
   "execution_count": 34
  },
  {
   "metadata": {
    "ExecuteTime": {
     "end_time": "2024-07-03T14:27:15.348774Z",
     "start_time": "2024-07-03T14:27:15.344321Z"
    }
   },
   "cell_type": "code",
   "source": [
    "# Afficher les détails de chaque modèle enregistré\n",
    "for model in registered_models:\n",
    "    print(f\"Model Name: {model.name}\")\n",
    "    print(f\"Creation Timestamp: {model.creation_timestamp}\")\n",
    "    print(f\"Last Updated Timestamp: {model.last_updated_timestamp}\")\n",
    "    print(f\"Description: {model.description}\")\n",
    "    print(f\"Latest Versions: {model.latest_versions}\")\n",
    "    print(\"-\" * 40)"
   ],
   "id": "7e049c64d47d2ad",
   "outputs": [
    {
     "name": "stdout",
     "output_type": "stream",
     "text": [
      "Model Name: nyc-taxi-regressor\n",
      "Creation Timestamp: 1720008192900\n",
      "Last Updated Timestamp: 1720016137277\n",
      "Description: Modèle de régression pour prédire les tarifs des taxis à New York\n",
      "Latest Versions: [<ModelVersion: aliases=[], creation_timestamp=1720016137277, current_stage='None', description=None, last_updated_timestamp=1720016137277, name='nyc-taxi-regressor', run_id='f47df67f15a743b29caf3e36284d76f2', run_link=None, source='/Users/jeanmermozeffi/DataspellProjects/MLOps/02-experiment-tracking/mlruns/1/f47df67f15a743b29caf3e36284d76f2/artifacts/model_mlflow', status='READY', status_message=None, tags={'algorithm': 'xgboost', 'dataset': 'NYC Taxi Data'}, user_id=None, version=3>]\n",
      "----------------------------------------\n"
     ]
    }
   ],
   "execution_count": 35
  },
  {
   "metadata": {
    "ExecuteTime": {
     "end_time": "2024-07-03T14:33:30.995986Z",
     "start_time": "2024-07-03T14:33:30.980674Z"
    }
   },
   "cell_type": "code",
   "source": [
    "# Obtenir les dernières versions du modèle spécifié\n",
    "model_name = \"nyc-taxi-regressor\"\n",
    "latest_versions = client.get_latest_versions(name=model_name)\n",
    "\n",
    "# Afficher les détails de chaque version\n",
    "for version in latest_versions:\n",
    "    print(f\"Version: {version.version}\")\n",
    "    print(f\"Stage: {version.current_stage}\")\n",
    "    print(f\"Run ID: {version.run_id}\")\n",
    "    print(f\"Status: {version.status}\")\n",
    "    print(f\"Description: {version.description}\")\n",
    "    print(f\"Tags: {version.tags}\")\n",
    "    print(\"-\" * 40)"
   ],
   "id": "1c26adb70748e180",
   "outputs": [
    {
     "name": "stdout",
     "output_type": "stream",
     "text": [
      "Version: 3\n",
      "Stage: None\n",
      "Run ID: f47df67f15a743b29caf3e36284d76f2\n",
      "Status: READY\n",
      "Description: None\n",
      "Tags: {'algorithm': 'xgboost', 'dataset': 'NYC Taxi Data'}\n",
      "----------------------------------------\n"
     ]
    },
    {
     "name": "stderr",
     "output_type": "stream",
     "text": [
      "/var/folders/k7/9z0j2pjj5s5dj9d09gxby06r0000gn/T/ipykernel_64532/3450397035.py:3: FutureWarning: ``mlflow.tracking.client.MlflowClient.get_latest_versions`` is deprecated since 2.9.0. Model registry stages will be removed in a future major release. To learn more about the deprecation of model registry stages, see our migration guide here: https://mlflow.org/docs/latest/model-registry.html#migrating-from-stages\n",
      "  latest_versions = client.get_latest_versions(name=model_name)\n"
     ]
    }
   ],
   "execution_count": 39
  },
  {
   "metadata": {
    "ExecuteTime": {
     "end_time": "2024-07-03T14:39:15.193475Z",
     "start_time": "2024-07-03T14:39:15.146351Z"
    }
   },
   "cell_type": "code",
   "source": [
    "model_version = 3\n",
    "new_stage = \"Staging\"\n",
    "client.transition_model_version_stage(\n",
    "    name=model_name,\n",
    "    version=model_version,\n",
    "    stage=new_stage,\n",
    "    archive_existing_versions=False\n",
    ")"
   ],
   "id": "cb2677cb03673b77",
   "outputs": [
    {
     "name": "stderr",
     "output_type": "stream",
     "text": [
      "/var/folders/k7/9z0j2pjj5s5dj9d09gxby06r0000gn/T/ipykernel_64532/4126000956.py:3: FutureWarning: ``mlflow.tracking.client.MlflowClient.transition_model_version_stage`` is deprecated since 2.9.0. Model registry stages will be removed in a future major release. To learn more about the deprecation of model registry stages, see our migration guide here: https://mlflow.org/docs/latest/model-registry.html#migrating-from-stages\n",
      "  client.transition_model_version_stage(\n"
     ]
    },
    {
     "data": {
      "text/plain": [
       "<ModelVersion: aliases=[], creation_timestamp=1720016137277, current_stage='Staging', description=None, last_updated_timestamp=1720017555155, name='nyc-taxi-regressor', run_id='f47df67f15a743b29caf3e36284d76f2', run_link=None, source='/Users/jeanmermozeffi/DataspellProjects/MLOps/02-experiment-tracking/mlruns/1/f47df67f15a743b29caf3e36284d76f2/artifacts/model_mlflow', status='READY', status_message=None, tags={'algorithm': 'xgboost', 'dataset': 'NYC Taxi Data'}, user_id=None, version=3>"
      ]
     },
     "execution_count": 41,
     "metadata": {},
     "output_type": "execute_result"
    }
   ],
   "execution_count": 41
  },
  {
   "metadata": {
    "ExecuteTime": {
     "end_time": "2024-07-03T14:50:21.264093Z",
     "start_time": "2024-07-03T14:50:21.143184Z"
    }
   },
   "cell_type": "code",
   "source": [
    "from datetime import datetime\n",
    "\n",
    "date = datetime.today().date()\n",
    "client.update_model_version(\n",
    "    name=model_name,\n",
    "    version=model_version,\n",
    "    description=f\"The model version {model_version} was transitioned to {new_stage} on {date}\"\n",
    ")"
   ],
   "id": "fc7570d170cd91ec",
   "outputs": [
    {
     "data": {
      "text/plain": [
       "<ModelVersion: aliases=[], creation_timestamp=1720016137277, current_stage='Staging', description='The model version 3 was transitioned to Staging on 2024-07-03', last_updated_timestamp=1720018221217, name='nyc-taxi-regressor', run_id='f47df67f15a743b29caf3e36284d76f2', run_link=None, source='/Users/jeanmermozeffi/DataspellProjects/MLOps/02-experiment-tracking/mlruns/1/f47df67f15a743b29caf3e36284d76f2/artifacts/model_mlflow', status='READY', status_message=None, tags={'algorithm': 'xgboost', 'dataset': 'NYC Taxi Data'}, user_id=None, version=3>"
      ]
     },
     "execution_count": 42,
     "metadata": {},
     "output_type": "execute_result"
    }
   ],
   "execution_count": 42
  },
  {
   "metadata": {
    "ExecuteTime": {
     "end_time": "2024-07-03T15:36:55.856998Z",
     "start_time": "2024-07-03T15:36:55.844889Z"
    }
   },
   "cell_type": "code",
   "source": [
    "def read_dataframe(filename):\n",
    "    df = pd.read_parquet(filename)\n",
    "\n",
    "    df.lpep_dropoff_datetime = pd.to_datetime(df.lpep_dropoff_datetime)\n",
    "    df.lpep_pickup_datetime = pd.to_datetime(df.lpep_pickup_datetime)\n",
    "\n",
    "    df['duration'] = df.lpep_dropoff_datetime - df.lpep_pickup_datetime\n",
    "    df.duration = df.duration.apply(lambda td: td.total_seconds() / 60)\n",
    "\n",
    "    df = df[(df.duration >= 1) & (df.duration <= 60)]\n",
    "\n",
    "    categorical = ['PULocationID', 'DOLocationID']\n",
    "    df[categorical] = df[categorical].astype(str)\n",
    "\n",
    "    return df\n",
    "\n",
    "\n",
    "def preprocess(df, dv):\n",
    "    # Créer une nouvelle colonne 'PU_DO' en combinant 'PULocationID' et 'DOLocationID'\n",
    "    df['PU_DO'] = df['PULocationID'].astype(str) + '_' + df['DOLocationID'].astype(str)\n",
    "\n",
    "    # Variables catégorielles et numériques à utiliser\n",
    "    categorical = ['PU_DO']\n",
    "    numerical = ['trip_distance']\n",
    "\n",
    "    # Convertir les colonnes sélectionnées en dictionnaires (records)\n",
    "    train_dicts = df[categorical + numerical].to_dict(orient='records')\n",
    "\n",
    "    # Utiliser l'objet dv pour transformer les données\n",
    "    transformed_data = dv.transform(train_dicts)\n",
    "\n",
    "    return transformed_data\n",
    "\n",
    "\n",
    "\n",
    "def test_model(name, stage, X_test, y_test):\n",
    "    model = mlflow.pyfunc.load_model(f\"models:/{name}/{stage}\")\n",
    "    y_pred = model.predict(X_test)\n",
    "    return {\"rmse\": root_mean_squared_error (y_test, y_pred)}"
   ],
   "id": "cba3e79ccab09878",
   "outputs": [],
   "execution_count": 54
  },
  {
   "metadata": {
    "ExecuteTime": {
     "end_time": "2024-07-03T14:58:12.638991Z",
     "start_time": "2024-07-03T14:58:10.994254Z"
    }
   },
   "cell_type": "code",
   "source": "df = read_dataframe(\"../../DataSets/green_tripdata_2021-03.parquet\")",
   "id": "384ffe10dd352adf",
   "outputs": [],
   "execution_count": 48
  },
  {
   "metadata": {
    "ExecuteTime": {
     "end_time": "2024-07-03T14:58:40.599057Z",
     "start_time": "2024-07-03T14:58:40.594268Z"
    }
   },
   "cell_type": "code",
   "source": "df.shape",
   "id": "9f3a77b1752d8e8a",
   "outputs": [
    {
     "data": {
      "text/plain": [
       "(80372, 21)"
      ]
     },
     "execution_count": 50,
     "metadata": {},
     "output_type": "execute_result"
    }
   ],
   "execution_count": 50
  },
  {
   "metadata": {
    "ExecuteTime": {
     "end_time": "2024-07-03T15:45:57.501161Z",
     "start_time": "2024-07-03T15:45:57.408534Z"
    }
   },
   "cell_type": "code",
   "source": "client.download_artifacts(run_id=run_id, path='preprocessor', dst_path='.')",
   "id": "3cf2310773d5da8d",
   "outputs": [
    {
     "data": {
      "text/plain": [
       "Downloading artifacts:   0%|          | 0/1 [00:00<?, ?it/s]"
      ],
      "application/vnd.jupyter.widget-view+json": {
       "version_major": 2,
       "version_minor": 0,
       "model_id": "590da1c391ad42019897390aa9d4140c"
      }
     },
     "metadata": {},
     "output_type": "display_data"
    },
    {
     "ename": "MlflowException",
     "evalue": "The following failures occurred while downloading one or more artifacts from /Users/jeanmermozeffi/DataspellProjects/MLOps/02-experiment-tracking/mlruns/1/55a3ef95d88a4079b99c13b240a56216/artifacts:\n##### File preprocessor #####\n[Errno 2] No such file or directory: '/Users/jeanmermozeffi/DataspellProjects/MLOps/02-experiment-tracking/mlruns/1/55a3ef95d88a4079b99c13b240a56216/artifacts/preprocessor'",
     "output_type": "error",
     "traceback": [
      "\u001B[0;31m---------------------------------------------------------------------------\u001B[0m",
      "\u001B[0;31mMlflowException\u001B[0m                           Traceback (most recent call last)",
      "Cell \u001B[0;32mIn[59], line 1\u001B[0m\n\u001B[0;32m----> 1\u001B[0m \u001B[43mclient\u001B[49m\u001B[38;5;241;43m.\u001B[39;49m\u001B[43mdownload_artifacts\u001B[49m\u001B[43m(\u001B[49m\u001B[43mrun_id\u001B[49m\u001B[38;5;241;43m=\u001B[39;49m\u001B[43mrun_id\u001B[49m\u001B[43m,\u001B[49m\u001B[43m \u001B[49m\u001B[43mpath\u001B[49m\u001B[38;5;241;43m=\u001B[39;49m\u001B[38;5;124;43m'\u001B[39;49m\u001B[38;5;124;43mpreprocessor\u001B[39;49m\u001B[38;5;124;43m'\u001B[39;49m\u001B[43m,\u001B[49m\u001B[43m \u001B[49m\u001B[43mdst_path\u001B[49m\u001B[38;5;241;43m=\u001B[39;49m\u001B[38;5;124;43m'\u001B[39;49m\u001B[38;5;124;43m.\u001B[39;49m\u001B[38;5;124;43m'\u001B[39;49m\u001B[43m)\u001B[49m\n",
      "File \u001B[0;32m~/DataspellProjects/MLOps/venv/lib/python3.12/site-packages/mlflow/tracking/client.py:2835\u001B[0m, in \u001B[0;36mMlflowClient.download_artifacts\u001B[0;34m(self, run_id, path, dst_path)\u001B[0m\n\u001B[1;32m   2788\u001B[0m \u001B[38;5;28;01mdef\u001B[39;00m \u001B[38;5;21mdownload_artifacts\u001B[39m(\u001B[38;5;28mself\u001B[39m, run_id: \u001B[38;5;28mstr\u001B[39m, path: \u001B[38;5;28mstr\u001B[39m, dst_path: Optional[\u001B[38;5;28mstr\u001B[39m] \u001B[38;5;241m=\u001B[39m \u001B[38;5;28;01mNone\u001B[39;00m) \u001B[38;5;241m-\u001B[39m\u001B[38;5;241m>\u001B[39m \u001B[38;5;28mstr\u001B[39m:\n\u001B[1;32m   2789\u001B[0m \u001B[38;5;250m    \u001B[39m\u001B[38;5;124;03m\"\"\"\u001B[39;00m\n\u001B[1;32m   2790\u001B[0m \u001B[38;5;124;03m    Download an artifact file or directory from a run to a local directory if applicable,\u001B[39;00m\n\u001B[1;32m   2791\u001B[0m \u001B[38;5;124;03m    and return a local path for it.\u001B[39;00m\n\u001B[0;32m   (...)\u001B[0m\n\u001B[1;32m   2833\u001B[0m \u001B[38;5;124;03m        Artifacts: ['features.txt']\u001B[39;00m\n\u001B[1;32m   2834\u001B[0m \u001B[38;5;124;03m    \"\"\"\u001B[39;00m\n\u001B[0;32m-> 2835\u001B[0m     \u001B[38;5;28;01mreturn\u001B[39;00m \u001B[38;5;28;43mself\u001B[39;49m\u001B[38;5;241;43m.\u001B[39;49m\u001B[43m_tracking_client\u001B[49m\u001B[38;5;241;43m.\u001B[39;49m\u001B[43mdownload_artifacts\u001B[49m\u001B[43m(\u001B[49m\u001B[43mrun_id\u001B[49m\u001B[43m,\u001B[49m\u001B[43m \u001B[49m\u001B[43mpath\u001B[49m\u001B[43m,\u001B[49m\u001B[43m \u001B[49m\u001B[43mdst_path\u001B[49m\u001B[43m)\u001B[49m\n",
      "File \u001B[0;32m~/DataspellProjects/MLOps/venv/lib/python3.12/site-packages/mlflow/tracking/_tracking_service/client.py:874\u001B[0m, in \u001B[0;36mTrackingServiceClient.download_artifacts\u001B[0;34m(self, run_id, path, dst_path)\u001B[0m\n\u001B[1;32m    857\u001B[0m \u001B[38;5;28;01mdef\u001B[39;00m \u001B[38;5;21mdownload_artifacts\u001B[39m(\u001B[38;5;28mself\u001B[39m, run_id, path, dst_path\u001B[38;5;241m=\u001B[39m\u001B[38;5;28;01mNone\u001B[39;00m):\n\u001B[1;32m    858\u001B[0m \u001B[38;5;250m    \u001B[39m\u001B[38;5;124;03m\"\"\"Download an artifact file or directory from a run to a local directory if applicable,\u001B[39;00m\n\u001B[1;32m    859\u001B[0m \u001B[38;5;124;03m    and return a local path for it.\u001B[39;00m\n\u001B[1;32m    860\u001B[0m \n\u001B[0;32m   (...)\u001B[0m\n\u001B[1;32m    872\u001B[0m \n\u001B[1;32m    873\u001B[0m \u001B[38;5;124;03m    \"\"\"\u001B[39;00m\n\u001B[0;32m--> 874\u001B[0m     \u001B[38;5;28;01mreturn\u001B[39;00m \u001B[38;5;28;43mself\u001B[39;49m\u001B[38;5;241;43m.\u001B[39;49m\u001B[43m_get_artifact_repo\u001B[49m\u001B[43m(\u001B[49m\u001B[43mrun_id\u001B[49m\u001B[43m)\u001B[49m\u001B[38;5;241;43m.\u001B[39;49m\u001B[43mdownload_artifacts\u001B[49m\u001B[43m(\u001B[49m\u001B[43mpath\u001B[49m\u001B[43m,\u001B[49m\u001B[43m \u001B[49m\u001B[43mdst_path\u001B[49m\u001B[43m)\u001B[49m\n",
      "File \u001B[0;32m~/DataspellProjects/MLOps/venv/lib/python3.12/site-packages/mlflow/store/artifact/local_artifact_repo.py:85\u001B[0m, in \u001B[0;36mLocalArtifactRepository.download_artifacts\u001B[0;34m(self, artifact_path, dst_path)\u001B[0m\n\u001B[1;32m     70\u001B[0m \u001B[38;5;250m\u001B[39m\u001B[38;5;124;03m\"\"\"\u001B[39;00m\n\u001B[1;32m     71\u001B[0m \u001B[38;5;124;03mArtifacts tracked by ``LocalArtifactRepository`` already exist on the local filesystem.\u001B[39;00m\n\u001B[1;32m     72\u001B[0m \u001B[38;5;124;03mIf ``dst_path`` is ``None``, the absolute filesystem path of the specified artifact is\u001B[39;00m\n\u001B[0;32m   (...)\u001B[0m\n\u001B[1;32m     82\u001B[0m \u001B[38;5;124;03m    Absolute path of the local filesystem location containing the desired artifacts.\u001B[39;00m\n\u001B[1;32m     83\u001B[0m \u001B[38;5;124;03m\"\"\"\u001B[39;00m\n\u001B[1;32m     84\u001B[0m \u001B[38;5;28;01mif\u001B[39;00m dst_path:\n\u001B[0;32m---> 85\u001B[0m     \u001B[38;5;28;01mreturn\u001B[39;00m \u001B[38;5;28;43msuper\u001B[39;49m\u001B[43m(\u001B[49m\u001B[43m)\u001B[49m\u001B[38;5;241;43m.\u001B[39;49m\u001B[43mdownload_artifacts\u001B[49m\u001B[43m(\u001B[49m\u001B[43martifact_path\u001B[49m\u001B[43m,\u001B[49m\u001B[43m \u001B[49m\u001B[43mdst_path\u001B[49m\u001B[43m)\u001B[49m\n\u001B[1;32m     86\u001B[0m \u001B[38;5;66;03m# NOTE: The artifact_path is expected to be a relative path in posix format.\u001B[39;00m\n\u001B[1;32m     87\u001B[0m \u001B[38;5;66;03m# Posix paths work fine on windows but just in case we normalize it here.\u001B[39;00m\n\u001B[1;32m     88\u001B[0m artifact_path \u001B[38;5;241m=\u001B[39m validate_path_is_safe(artifact_path)\n",
      "File \u001B[0;32m~/DataspellProjects/MLOps/venv/lib/python3.12/site-packages/mlflow/store/artifact/artifact_repo.py:274\u001B[0m, in \u001B[0;36mArtifactRepository.download_artifacts\u001B[0;34m(self, artifact_path, dst_path)\u001B[0m\n\u001B[1;32m    270\u001B[0m     template \u001B[38;5;241m=\u001B[39m \u001B[38;5;124m\"\u001B[39m\u001B[38;5;124m##### File \u001B[39m\u001B[38;5;132;01m{path}\u001B[39;00m\u001B[38;5;124m #####\u001B[39m\u001B[38;5;130;01m\\n\u001B[39;00m\u001B[38;5;132;01m{error}\u001B[39;00m\u001B[38;5;124m\"\u001B[39m\n\u001B[1;32m    271\u001B[0m     failures \u001B[38;5;241m=\u001B[39m \u001B[38;5;124m\"\u001B[39m\u001B[38;5;130;01m\\n\u001B[39;00m\u001B[38;5;124m\"\u001B[39m\u001B[38;5;241m.\u001B[39mjoin(\n\u001B[1;32m    272\u001B[0m         template\u001B[38;5;241m.\u001B[39mformat(path\u001B[38;5;241m=\u001B[39mpath, error\u001B[38;5;241m=\u001B[39merror) \u001B[38;5;28;01mfor\u001B[39;00m path, error \u001B[38;5;129;01min\u001B[39;00m failed_downloads\u001B[38;5;241m.\u001B[39mitems()\n\u001B[1;32m    273\u001B[0m     )\n\u001B[0;32m--> 274\u001B[0m     \u001B[38;5;28;01mraise\u001B[39;00m MlflowException(\n\u001B[1;32m    275\u001B[0m         message\u001B[38;5;241m=\u001B[39m(\n\u001B[1;32m    276\u001B[0m             \u001B[38;5;124m\"\u001B[39m\u001B[38;5;124mThe following failures occurred while downloading one or more\u001B[39m\u001B[38;5;124m\"\u001B[39m\n\u001B[1;32m    277\u001B[0m             \u001B[38;5;124mf\u001B[39m\u001B[38;5;124m\"\u001B[39m\u001B[38;5;124m artifacts from \u001B[39m\u001B[38;5;132;01m{\u001B[39;00m\u001B[38;5;28mself\u001B[39m\u001B[38;5;241m.\u001B[39martifact_uri\u001B[38;5;132;01m}\u001B[39;00m\u001B[38;5;124m:\u001B[39m\u001B[38;5;130;01m\\n\u001B[39;00m\u001B[38;5;132;01m{\u001B[39;00m_truncate_error(failures)\u001B[38;5;132;01m}\u001B[39;00m\u001B[38;5;124m\"\u001B[39m\n\u001B[1;32m    278\u001B[0m         )\n\u001B[1;32m    279\u001B[0m     )\n\u001B[1;32m    281\u001B[0m \u001B[38;5;28;01mreturn\u001B[39;00m os\u001B[38;5;241m.\u001B[39mpath\u001B[38;5;241m.\u001B[39mjoin(dst_path, artifact_path)\n",
      "\u001B[0;31mMlflowException\u001B[0m: The following failures occurred while downloading one or more artifacts from /Users/jeanmermozeffi/DataspellProjects/MLOps/02-experiment-tracking/mlruns/1/55a3ef95d88a4079b99c13b240a56216/artifacts:\n##### File preprocessor #####\n[Errno 2] No such file or directory: '/Users/jeanmermozeffi/DataspellProjects/MLOps/02-experiment-tracking/mlruns/1/55a3ef95d88a4079b99c13b240a56216/artifacts/preprocessor'"
     ]
    }
   ],
   "execution_count": 59
  },
  {
   "metadata": {
    "ExecuteTime": {
     "end_time": "2024-07-03T15:46:20.870712Z",
     "start_time": "2024-07-03T15:46:20.845376Z"
    }
   },
   "cell_type": "code",
   "source": [
    "import pickle\n",
    "\n",
    "with open(\"preprocessor/preprocessor.b\", \"rb\") as f_in:\n",
    "    dv = pickle.load(f_in)"
   ],
   "id": "2fbcf1eb22f436cd",
   "outputs": [],
   "execution_count": 60
  },
  {
   "metadata": {
    "ExecuteTime": {
     "end_time": "2024-07-03T15:46:22.911896Z",
     "start_time": "2024-07-03T15:46:22.724390Z"
    }
   },
   "cell_type": "code",
   "source": "X_test = preprocess(df, dv)",
   "id": "5df48c3552cacfe7",
   "outputs": [
    {
     "ename": "AttributeError",
     "evalue": "'tuple' object has no attribute 'transform'",
     "output_type": "error",
     "traceback": [
      "\u001B[0;31m---------------------------------------------------------------------------\u001B[0m",
      "\u001B[0;31mAttributeError\u001B[0m                            Traceback (most recent call last)",
      "Cell \u001B[0;32mIn[61], line 1\u001B[0m\n\u001B[0;32m----> 1\u001B[0m X_test \u001B[38;5;241m=\u001B[39m \u001B[43mpreprocess\u001B[49m\u001B[43m(\u001B[49m\u001B[43mdf\u001B[49m\u001B[43m,\u001B[49m\u001B[43m \u001B[49m\u001B[43mdv\u001B[49m\u001B[43m)\u001B[49m\n",
      "Cell \u001B[0;32mIn[54], line 30\u001B[0m, in \u001B[0;36mpreprocess\u001B[0;34m(df, dv)\u001B[0m\n\u001B[1;32m     27\u001B[0m train_dicts \u001B[38;5;241m=\u001B[39m df[categorical \u001B[38;5;241m+\u001B[39m numerical]\u001B[38;5;241m.\u001B[39mto_dict(orient\u001B[38;5;241m=\u001B[39m\u001B[38;5;124m'\u001B[39m\u001B[38;5;124mrecords\u001B[39m\u001B[38;5;124m'\u001B[39m)\n\u001B[1;32m     29\u001B[0m \u001B[38;5;66;03m# Utiliser l'objet dv pour transformer les données\u001B[39;00m\n\u001B[0;32m---> 30\u001B[0m transformed_data \u001B[38;5;241m=\u001B[39m \u001B[43mdv\u001B[49m\u001B[38;5;241;43m.\u001B[39;49m\u001B[43mtransform\u001B[49m(train_dicts)\n\u001B[1;32m     32\u001B[0m \u001B[38;5;28;01mreturn\u001B[39;00m transformed_data\n",
      "\u001B[0;31mAttributeError\u001B[0m: 'tuple' object has no attribute 'transform'"
     ]
    }
   ],
   "execution_count": 61
  },
  {
   "metadata": {},
   "cell_type": "code",
   "outputs": [],
   "execution_count": null,
   "source": "",
   "id": "def223096abd2332"
  }
 ],
 "metadata": {
  "kernelspec": {
   "display_name": "Python 3",
   "language": "python",
   "name": "python3"
  },
  "language_info": {
   "codemirror_mode": {
    "name": "ipython",
    "version": 2
   },
   "file_extension": ".py",
   "mimetype": "text/x-python",
   "name": "python",
   "nbconvert_exporter": "python",
   "pygments_lexer": "ipython2",
   "version": "2.7.6"
  }
 },
 "nbformat": 4,
 "nbformat_minor": 5
}
